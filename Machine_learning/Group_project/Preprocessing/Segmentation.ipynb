{
 "cells": [
  {
   "cell_type": "code",
   "execution_count": null,
   "metadata": {},
   "outputs": [],
   "source": [
    "import os\n",
    "from Segmentation_HelperFunctions import *"
   ]
  },
  {
   "cell_type": "markdown",
   "metadata": {},
   "source": [
    "# Importing the Data"
   ]
  },
  {
   "cell_type": "code",
   "execution_count": null,
   "metadata": {},
   "outputs": [],
   "source": [
    "control_dir = '../control_images/'\n",
    "drug_dir = '../drug_images/'\n",
    "\n",
    "control_fnames = [control_dir + fname for fname in os.listdir(control_dir)]\n",
    "drug_fnames = [drug_dir + fname for fname in os.listdir(drug_dir)]"
   ]
  },
  {
   "cell_type": "code",
   "execution_count": null,
   "metadata": {},
   "outputs": [],
   "source": [
    "dir_hist = '../corrected_images/hist_correction/'\n",
    "dir_adapthist = '../corrected_images/adapthist_correction/'\n",
    "\n",
    "def check_directory_exists(directory):\n",
    "    try:\n",
    "        if os.path.exists(directory) and os.path.isdir(directory):\n",
    "            print(f\"Directory exists: {directory}\")\n",
    "        else:\n",
    "            raise NotADirectoryError(f\"{directory} is not a valid directory.\")\n",
    "    except Exception as e:\n",
    "        print(f\"Error checking directory {directory}: {e}\")\n",
    "\n",
    "check_directory_exists(dir_hist)\n",
    "check_directory_exists(dir_adapthist)\n",
    "check_directory_exists(drug_dir)\n",
    "check_directory_exists(control_dir)"
   ]
  },
  {
   "cell_type": "markdown",
   "metadata": {},
   "source": [
    "# **Running** the combined Segmentation and **Saving** the segments"
   ]
  },
  {
   "cell_type": "code",
   "execution_count": null,
   "metadata": {},
   "outputs": [],
   "source": [
    "dir = 'segments/control/'\n",
    "for fname in control_fnames:\n",
    "    new_fname = dir + fname.split('/')[-1] + '.npy'\n",
    "    print(new_fname)\n",
    "    cells, nuclei = combined_segmentation(fname)\n",
    "    save_to(cells, nuclei, new_fname)\n",
    "\n",
    "dir = 'segments/drug/'\n",
    "for fname in drug_fnames:\n",
    "    new_fname = dir + fname.split('/')[-1] + '.npy'\n",
    "    print(new_fname)\n",
    "    cells, nuclei = combined_segmentation(fname)\n",
    "    save_to(cells, nuclei, new_fname)"
   ]
  }
 ],
 "metadata": {
  "kernelspec": {
   "display_name": "AML_FP",
   "language": "python",
   "name": "python3"
  },
  "language_info": {
   "codemirror_mode": {
    "name": "ipython",
    "version": 3
   },
   "file_extension": ".py",
   "mimetype": "text/x-python",
   "name": "python",
   "nbconvert_exporter": "python",
   "pygments_lexer": "ipython3",
   "version": "3.12.3"
  }
 },
 "nbformat": 4,
 "nbformat_minor": 2
}
